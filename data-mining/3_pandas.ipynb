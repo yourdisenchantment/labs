{
 "cells": [
  {
   "cell_type": "markdown",
   "id": "abbda0e2",
   "metadata": {},
   "source": [
    "Вариант 9\n",
    "\n",
    "1. Подсчитать какой процент пассажиров путешествовали 1 классом.\n",
    "2. Отобрать всех пассажиров мужчин старше 40.\n",
    "3. Отсортировать все столбцы по наименованию.\n",
    "4. Задать количество строк и столбцов для отображения объектов Pandas: 14 строк, 3 столбца.\n",
    "5. Создать объект DataFrame с данными о планетах солнечной системы (название, диаметр планеты, масса, расстояние от Солнца)\n",
    "   1) Отобрать планеты, что расположены дальше от Солнца, чем Земля.\n",
    "   2) Отобрать 3 крупнейшие по массе планеты.\n",
    "   3) Отсортировать планеты по возрастанию по столбцу «диаметр»."
   ]
  },
  {
   "cell_type": "code",
   "execution_count": null,
   "id": "68517b89",
   "metadata": {},
   "outputs": [],
   "source": [
    "from pathlib import Path\n",
    "\n",
    "import pandas as pd"
   ]
  },
  {
   "cell_type": "code",
   "execution_count": null,
   "id": "66af362e",
   "metadata": {},
   "outputs": [],
   "source": [
    "data = Path(\"data/titanic.csv\")\n",
    "df = pd.read_csv(data, index_col=\"PassengerId\")"
   ]
  },
  {
   "cell_type": "code",
   "execution_count": null,
   "id": "c11e30b0",
   "metadata": {},
   "outputs": [],
   "source": [
    "\"\"\"\n",
    "Подсчитать какой процент пассажиров путешествовали 1 классом.\n",
    "\"\"\"\n",
    "\n",
    "percentage_first_class = (\n",
    "    df[\"Pclass\"] == 1\n",
    ").mean() * 100  # mean() - среднее арифметическое\n",
    "\n",
    "print(f\"{percentage_first_class:.1f}%\")"
   ]
  },
  {
   "cell_type": "code",
   "execution_count": null,
   "id": "5b853e75",
   "metadata": {},
   "outputs": [],
   "source": [
    "\"\"\"\n",
    "Отобрать всех пассажиров мужчин старше 40.\n",
    "\"\"\"\n",
    "\n",
    "men_over_40 = df[(df[\"Sex\"] == \"male\") & (df[\"Age\"] > 40)]\n",
    "\n",
    "print(men_over_40.shape[0])\n",
    "\n",
    "display(men_over_40)"
   ]
  },
  {
   "cell_type": "code",
   "execution_count": null,
   "id": "1bc54c1d",
   "metadata": {},
   "outputs": [],
   "source": [
    "\"\"\"\n",
    "Отсортировать все столбцы по наименованию.\n",
    "\"\"\"\n",
    "\n",
    "df_sorted = df[sorted(df.columns)]\n",
    "\n",
    "display(df_sorted)"
   ]
  },
  {
   "cell_type": "code",
   "execution_count": null,
   "id": "9f04ba35",
   "metadata": {},
   "outputs": [],
   "source": [
    "\"\"\"\n",
    "Задать количество строк и столбцов для отображения объектов Pandas: 14 строк, 3 столбца.\n",
    "\"\"\"\n",
    "\n",
    "display(df.iloc[:14, :3])"
   ]
  },
  {
   "cell_type": "code",
   "execution_count": null,
   "id": "de2714cf",
   "metadata": {},
   "outputs": [],
   "source": [
    "\"\"\"\n",
    "Создать объект DataFrame с данными о планетах солнечной системы\n",
    "(название, диаметр планеты, масса, расстояние от Солнца)\n",
    "   1) Отобрать планеты, что расположены дальше от Солнца, чем Земля.\n",
    "   2) Отобрать 3 крупнейшие по массе планеты.\n",
    "   3) Отсортировать планеты по возрастанию по столбцу «диаметр».\n",
    "\"\"\"\n",
    "\n",
    "planets = pd.DataFrame(\n",
    "    {\n",
    "        \"name\": [\n",
    "            \"Меркурий\",\n",
    "            \"Венера\",\n",
    "            \"Земля\",\n",
    "            \"Марс\",\n",
    "            \"Юпитер\",\n",
    "            \"Сатурн\",\n",
    "            \"Уран\",\n",
    "            \"Нептун\",\n",
    "        ],\n",
    "        \"diameter\": [4879, 12104, 12742, 6779, 139820, 116460, 50724, 49244],  # км\n",
    "        \"mass\": [0.33, 4.87, 5.97, 0.642, 1898, 568, 86.8, 102],  # 10^24 кг\n",
    "        \"distance_from_the_sun\": [\n",
    "            57.9,\n",
    "            108.2,\n",
    "            149.6,\n",
    "            227.9,\n",
    "            778.5,\n",
    "            1434,\n",
    "            2871,\n",
    "            4495,\n",
    "        ],  # млн км\n",
    "    }\n",
    ")\n",
    "\n",
    "earth_distance = planets[planets[\"name\"] == \"Земля\"][\"distance_from_the_sun\"].values[0]\n",
    "planets_beyond_earth = planets[planets[\"distance_from_the_sun\"] > earth_distance]\n",
    "\n",
    "print(\"Планеты дальше от Солнца, чем Земля:\")\n",
    "display(planets_beyond_earth)\n",
    "\n",
    "top_3_massive = planets.nlargest(3, \"mass\")\n",
    "\n",
    "print(\"Топ-3 по массе планеты:\")\n",
    "display(top_3_massive)\n",
    "\n",
    "planets_sorted_by_diameter = planets.sort_values(\"diameter\")\n",
    "\n",
    "print(\"Планеты, отсортированные по диаметру:\")\n",
    "display(planets_sorted_by_diameter)"
   ]
  }
 ],
 "metadata": {
  "kernelspec": {
   "display_name": "labs (3.13.7)",
   "language": "python",
   "name": "python3"
  },
  "language_info": {
   "codemirror_mode": {
    "name": "ipython",
    "version": 3
   },
   "file_extension": ".py",
   "mimetype": "text/x-python",
   "name": "python",
   "nbconvert_exporter": "python",
   "pygments_lexer": "ipython3",
   "version": "3.13.7"
  }
 },
 "nbformat": 4,
 "nbformat_minor": 5
}
