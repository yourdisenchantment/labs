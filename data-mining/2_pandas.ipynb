{
 "cells": [
  {
   "cell_type": "markdown",
   "id": "8738ec83",
   "metadata": {},
   "source": [
    "1. Создать объект Series, состоящий из числовых элементов. Найти все элементы, кратные 7. На экран вывести их индексы.\n",
    "2. Создать произвольный объект Series. Подсчитать количество символов в объекте.\n",
    "3. Создать два произвольных объекта Series: А и В. Вывести на экран все непересекающиеся элементы и их индексы.\n",
    "4. Создать произвольный объект Series. Подсчитать количество повторений (частоту) элементов.\n",
    "5. Создать два произвольных объекта Series: А и В. Объединить объекты вертикально и горизонтально.\n",
    "6. Создать два произвольных объекта Series А и В, состоящие из числовых элементов. Найти евклидово расстояние между объектами.\n",
    "7. Создайте объект Series, содержащий список группы. В качестве индексов используйте номер в журнале старосты. Индекс старосты задать «starosta». Выведите:\n",
    "    1) список всех элементов;\n",
    "    2) каждого второго из списка;\n",
    "    3) создать два объекта Series для подгрупп, распределив в первую подгруппу студентов с нечётным индексом, а во вторую - с чётным."
   ]
  },
  {
   "cell_type": "code",
   "execution_count": 1,
   "id": "56b654f9-077f-42e3-be90-149d12fd0d9e",
   "metadata": {},
   "outputs": [],
   "source": [
    "import numpy as np\n",
    "import pandas as pd\n"
   ]
  },
  {
   "cell_type": "code",
   "execution_count": 4,
   "id": "859c4ebe",
   "metadata": {},
   "outputs": [
    {
     "name": "stdout",
     "output_type": "stream",
     "text": [
      "0    14\n",
      "1    25\n",
      "2    49\n",
      "3    10\n",
      "4    77\n",
      "5     3\n",
      "6    21\n",
      "7    50\n",
      "dtype: int64\n",
      "[0, 2, 4, 6]\n"
     ]
    }
   ],
   "source": [
    "\"\"\"\n",
    "Создать объект Series, состоящий из числовых элементов.\n",
    "Найти все элементы, кратные 7.\n",
    "На экран вывести их индексы.\n",
    "\"\"\"\n",
    "\n",
    "data = [14, 25, 49, 10, 77, 3, 21, 50]\n",
    "series = pd.Series(data)\n",
    "\n",
    "divisible_by_7 = series[series % 7 == 0]\n",
    "\n",
    "print(series)\n",
    "print(divisible_by_7.index.tolist())\n"
   ]
  },
  {
   "cell_type": "code",
   "execution_count": null,
   "id": "0d77c435",
   "metadata": {},
   "outputs": [
    {
     "name": "stdout",
     "output_type": "stream",
     "text": [
      "0    анализ\n",
      "1    данных\n",
      "2    pandas\n",
      "3     numpy\n",
      "dtype: object\n",
      "23\n"
     ]
    }
   ],
   "source": [
    "\"\"\"\n",
    "Создать произвольный объект Series.\n",
    "Подсчитать количество символов в объекте.\n",
    "\"\"\"\n",
    "\n",
    "string_series = pd.Series([\"анализ\", \"данных\", \"pandas\", \"numpy\"])  # 6, 6, 6, 5\n",
    "total_chars = string_series.str.len().sum()\n",
    "\n",
    "print(string_series)\n",
    "print(total_chars)\n"
   ]
  },
  {
   "cell_type": "code",
   "execution_count": 8,
   "id": "747ded10",
   "metadata": {},
   "outputs": [
    {
     "name": "stdout",
     "output_type": "stream",
     "text": [
      "Series A:\n",
      "a    10\n",
      "b    20\n",
      "c    30\n",
      "d    40\n",
      "e    50\n",
      "f    60\n",
      "dtype: int64\n",
      "\n",
      "Series B:\n",
      "z    30\n",
      "y    40\n",
      "x    70\n",
      "w    80\n",
      "v    90\n",
      "dtype: int64\n",
      "\n",
      "Непересекающиеся элементы и их индексы:\n",
      "a    10\n",
      "b    20\n",
      "e    50\n",
      "f    60\n",
      "x    70\n",
      "w    80\n",
      "v    90\n",
      "dtype: int64\n"
     ]
    }
   ],
   "source": [
    "\"\"\"\n",
    "Создать два произвольных объекта Series: А и В.\n",
    "Вывести на экран все непересекающиеся элементы и их индексы.\n",
    "\"\"\"\n",
    "\n",
    "A = pd.Series([10, 20, 30, 40, 50, 60], index=[\"a\", \"b\", \"c\", \"d\", \"e\", \"f\"])\n",
    "B = pd.Series([30, 40, 70, 80, 90], index=[\"z\", \"y\", \"x\", \"w\", \"v\"])\n",
    "\n",
    "unique_to_A = A[~A.isin(B)]\n",
    "unique_to_B = B[~B.isin(A)]\n",
    "non_intersecting_values = pd.concat([unique_to_A, unique_to_B])\n",
    "\n",
    "print(\"Series A:\")\n",
    "print(A)\n",
    "print()\n",
    "\n",
    "print(\"Series B:\")\n",
    "print(B)\n",
    "print()\n",
    "\n",
    "print(\"Непересекающиеся элементы и их индексы:\")\n",
    "print(non_intersecting_values)\n"
   ]
  },
  {
   "cell_type": "code",
   "execution_count": 9,
   "id": "2006829e",
   "metadata": {},
   "outputs": [
    {
     "name": "stdout",
     "output_type": "stream",
     "text": [
      "Series для подсчета частоты:\n",
      "0      яблоко\n",
      "1       банан\n",
      "2      яблоко\n",
      "3    апельсин\n",
      "4       банан\n",
      "5      яблоко\n",
      "6       груша\n",
      "dtype: object\n",
      "\n",
      "Частота повторений элементов:\n",
      "яблоко      3\n",
      "банан       2\n",
      "апельсин    1\n",
      "груша       1\n",
      "Name: count, dtype: int64\n"
     ]
    }
   ],
   "source": [
    "\"\"\"\n",
    "Создать произвольный объект Series.\n",
    "Подсчитать количество повторений (частоту) элементов.\n",
    "\"\"\"\n",
    "\n",
    "frequency_series = pd.Series(\n",
    "    [\"яблоко\", \"банан\", \"яблоко\", \"апельсин\", \"банан\", \"яблоко\", \"груша\"]\n",
    ")\n",
    "\n",
    "counts = frequency_series.value_counts()\n",
    "\n",
    "print(\"Series для подсчета частоты:\")\n",
    "print(frequency_series)\n",
    "print()\n",
    "\n",
    "print(\"Частота повторений элементов:\")\n",
    "print(counts)\n"
   ]
  },
  {
   "cell_type": "code",
   "execution_count": null,
   "id": "08f71af1",
   "metadata": {},
   "outputs": [],
   "source": [
    "\"\"\"\n",
    "Создать два произвольных объекта Series: А и В.\n",
    "Объединить объекты вертикально и горизонтально.\n",
    "\"\"\"\n"
   ]
  }
 ],
 "metadata": {
  "kernelspec": {
   "display_name": "labs-py3.13",
   "language": "python",
   "name": "python3"
  },
  "language_info": {
   "codemirror_mode": {
    "name": "ipython",
    "version": 3
   },
   "file_extension": ".py",
   "mimetype": "text/x-python",
   "name": "python",
   "nbconvert_exporter": "python",
   "pygments_lexer": "ipython3",
   "version": "3.13.7"
  }
 },
 "nbformat": 4,
 "nbformat_minor": 5
}
