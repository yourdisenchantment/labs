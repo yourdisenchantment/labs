{
 "cells": [
  {
   "cell_type": "markdown",
   "id": "b24a629b",
   "metadata": {},
   "source": [
    "Вариант 9\n",
    "\n",
    "Примечание: N - номер варианта, n = N + 10, m = N + 1\n",
    "\n",
    "1. Создать вектор размерности n (19), у которого элементы на чётных позициях равны 0, а на нечётных - единице.\n",
    "2. Задана матрица. Вывести на экран первую и последнюю строки.\n",
    "3. Дана квадратная матрица. Вывести на экран сумму элементов, стоящих на побочной диагонали.\n",
    "4. В произвольной матрице отсортировать по возрастанию элементы столбцов.\n",
    "5. Сформировать две матрицы А и В размерности n x n из случайных элементов, вывести на экран сумму, разность и произведение данных матриц.\n"
   ]
  },
  {
   "cell_type": "code",
   "execution_count": null,
   "id": "824b27e1",
   "metadata": {},
   "outputs": [],
   "source": [
    "import numpy as np\n",
    "\n",
    "\n",
    "N = 9\n",
    "n = N + 10\n",
    "m = N + 1"
   ]
  },
  {
   "cell_type": "code",
   "execution_count": null,
   "id": "25ce2b94",
   "metadata": {},
   "outputs": [],
   "source": [
    "\"\"\"\n",
    "Создать вектор размерности n, у которого элементы на чётных позициях равны 0, а на нечётных - единице.\n",
    "\"\"\"\n",
    "\n",
    "vector = np.zeros(n)\n",
    "vector[::2] = 1\n",
    "\n",
    "print(*vector, sep=\"\\t\")"
   ]
  },
  {
   "cell_type": "code",
   "execution_count": null,
   "id": "3d96a157",
   "metadata": {},
   "outputs": [],
   "source": [
    "\"\"\"\n",
    "Задана матрица. Вывести на экран первую и последнюю строки.\n",
    "\"\"\"\n",
    "\n",
    "matrix = np.random.randint(0, 10, size=(n, n))\n",
    "\n",
    "print(\"Первая строка:\")\n",
    "print(*matrix[0], sep=\"  \")\n",
    "\n",
    "print(\"Последняя стркоа:\")\n",
    "print(*matrix[-1], sep=\"  \")\n",
    "\n",
    "print(\"Вся матрица:\")\n",
    "for row in matrix:\n",
    "    print(*row, sep=\"  \")"
   ]
  },
  {
   "cell_type": "code",
   "execution_count": null,
   "id": "0c8e0b14",
   "metadata": {},
   "outputs": [],
   "source": [
    "\"\"\"\n",
    "Дана квадратная матрица.\n",
    "Вывести на экран сумму элементов, стоящих на побочной диагонали.\n",
    "\"\"\"\n",
    "\n",
    "matrix = np.eye(n, n)\n",
    "summ = 0\n",
    "\n",
    "for i in range(n):\n",
    "    summ += matrix[n - 1][n - i - 1]\n",
    "\n",
    "print(summ)"
   ]
  },
  {
   "cell_type": "code",
   "execution_count": null,
   "id": "8e551f62",
   "metadata": {},
   "outputs": [],
   "source": [
    "\"\"\"\n",
    "В произвольной матрице отсортировать по возрастанию элементы столбцов.\n",
    "\"\"\"\n",
    "\n",
    "matrix = np.random.randint(0, 10, size=(n, n))\n",
    "matrix = np.sort(matrix, axis=0)\n",
    "\n",
    "for row in matrix:  # по убыванию [::-1]\n",
    "    print(*row, sep=\"  \")"
   ]
  },
  {
   "cell_type": "code",
   "execution_count": null,
   "id": "7dd8f16b",
   "metadata": {},
   "outputs": [],
   "source": [
    "\"\"\"\n",
    "Сформировать две матрицы А и В размерности n x n из случайных элементов,\n",
    "вывести на экран сумму, разность и произведение данных матриц.\n",
    "\"\"\"\n",
    "\n",
    "A = np.random.randint(0, 10, size=(n, n))\n",
    "B = np.random.randint(0, 10, size=(n, n))\n",
    "\n",
    "print(\"Матрица A:\")\n",
    "\n",
    "for row in A:\n",
    "    print(*row, sep=\"  \")\n",
    "\n",
    "print()\n",
    "print(\"Матрица B:\")\n",
    "\n",
    "for row in B:\n",
    "    print(*row, sep=\"  \")\n",
    "\n",
    "print()\n",
    "print(\"A - B:\")\n",
    "diff = A - B\n",
    "\n",
    "for row in diff:\n",
    "    print(*row, sep=\"  \")\n",
    "\n",
    "print()\n",
    "print(\"A * B:\")\n",
    "product = np.dot(A, B)\n",
    "\n",
    "for row in product:\n",
    "    print(*row, sep=\"  \")"
   ]
  }
 ],
 "metadata": {
  "kernelspec": {
   "display_name": "labs-py3.13",
   "language": "python",
   "name": "python3"
  },
  "language_info": {
   "codemirror_mode": {
    "name": "ipython",
    "version": 3
   },
   "file_extension": ".py",
   "mimetype": "text/x-python",
   "name": "python",
   "nbconvert_exporter": "python",
   "pygments_lexer": "ipython3",
   "version": "3.13.7"
  }
 },
 "nbformat": 4,
 "nbformat_minor": 5
}
