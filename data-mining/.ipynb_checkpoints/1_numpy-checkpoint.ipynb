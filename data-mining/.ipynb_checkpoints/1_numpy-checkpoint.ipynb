{
 "cells": [
  {
   "cell_type": "markdown",
   "id": "b24a629b",
   "metadata": {},
   "source": [
    "Вариант 9\n",
    "\n",
    "Примечание: N - номер варианта, n = N + 10, m = N + 1\n",
    "\n",
    "1. Создать вектор размерности n (19), у которого элементы на чётных позициях равны 0, а на нечётных - единице.\n",
    "2. Задана матрица. Вывести на экран первую и последнюю строки.\n",
    "3. Дана квадратная матрица. Вывести на экран сумму элементов, стоящих на побочной диагонали.\n",
    "4. В произвольной матрице отсортировать по возрастанию элементы столбцов.\n",
    "5. Сформировать две матрицы А и В размерности n x n из случайных элементов, вывести на экран сумму, разность и произведение данных матриц.\n"
   ]
  },
  {
   "cell_type": "code",
   "execution_count": null,
   "id": "824b27e1",
   "metadata": {},
   "outputs": [],
   "source": [
    "import numpy as np\n",
    "\n",
    "\n",
    "N = 9\n",
    "n = N + 10\n",
    "m = N + 1"
   ]
  },
  {
   "cell_type": "code",
   "execution_count": null,
   "id": "25ce2b94",
   "metadata": {},
   "outputs": [
    {
     "name": "stdout",
     "output_type": "stream",
     "text": [
      "1.0\t0.0\t1.0\t0.0\t1.0\t0.0\t1.0\t0.0\t1.0\t0.0\t1.0\t0.0\t1.0\t0.0\t1.0\t0.0\t1.0\t0.0\t1.0\n"
     ]
    }
   ],
   "source": [
    "\"\"\"Создать вектор размерности n, у которого элементы на чётных позициях равны 0, а на нечётных - единице\"\"\"\n",
    "\n",
    "vector = np.zeros(n)\n",
    "vector[::2] = 1\n",
    "\n",
    "print(*vector, sep=\"\\t\")"
   ]
  },
  {
   "cell_type": "code",
   "execution_count": null,
   "id": "3d96a157",
   "metadata": {},
   "outputs": [
    {
     "name": "stdout",
     "output_type": "stream",
     "text": [
      "Первая строка:\n",
      "6  7  2  3  4  4  0  1  8  8  0  1  6  8  3  4  6  2  6\n",
      "Последняя стркоа:\n",
      "3  8  9  4  9  3  0  9  0  2  5  3  1  9  7  7  0  0  6\n",
      "Вся матрица:\n",
      "6  7  2  3  4  4  0  1  8  8  0  1  6  8  3  4  6  2  6\n",
      "0  2  7  5  8  0  2  8  4  7  3  3  5  3  1  9  5  3  5\n",
      "0  5  5  4  1  6  1  5  2  7  2  0  9  0  6  6  3  5  2\n",
      "2  9  7  9  7  0  0  2  6  0  9  9  0  3  3  2  8  5  7\n",
      "7  0  6  9  1  1  9  9  3  0  7  8  3  5  0  9  0  0  4\n",
      "5  5  4  3  3  0  3  4  1  8  3  3  1  0  2  0  3  6  9\n",
      "0  5  5  8  9  4  3  7  9  1  0  1  4  5  8  0  3  9  1\n",
      "0  6  7  0  5  6  9  2  7  7  8  3  0  0  0  9  3  7  9\n",
      "2  1  6  7  5  5  6  8  5  5  4  8  4  5  1  8  9  5  7\n",
      "9  5  6  9  6  8  2  6  6  5  0  7  0  8  6  4  8  9  6\n",
      "9  3  2  2  9  9  1  0  3  2  2  9  9  6  9  6  4  6  7\n",
      "6  3  6  2  4  4  6  3  7  0  8  7  6  9  7  9  0  7  1\n",
      "0  0  2  7  8  5  7  8  5  5  1  5  5  1  0  6  3  5  9\n",
      "2  0  0  4  4  2  7  5  9  7  7  4  9  3  1  3  5  5  8\n",
      "2  7  8  3  4  0  2  9  0  7  2  7  9  2  7  9  9  5  3\n",
      "4  3  1  2  7  4  3  5  0  3  4  7  3  1  0  6  8  0  5\n",
      "3  4  1  4  5  5  0  3  3  2  6  8  4  0  3  1  5  5  2\n",
      "7  6  0  0  6  3  8  9  9  0  9  7  4  8  5  9  2  7  9\n",
      "3  8  9  4  9  3  0  9  0  2  5  3  1  9  7  7  0  0  6\n"
     ]
    }
   ],
   "source": [
    "\"\"\"Задана матрица. Вывести на экран первую и последнюю строки\"\"\"\n",
    "\n",
    "matrix = np.random.randint(0, 10, size=(n, n))\n",
    "\n",
    "print(\"Первая строка:\")\n",
    "print(*matrix[0], sep=\"  \")\n",
    "\n",
    "print(\"Последняя стркоа:\")\n",
    "print(*matrix[-1], sep=\"  \")\n",
    "\n",
    "print(\"Вся матрица:\")\n",
    "for row in matrix:\n",
    "    print(*row, sep=\"  \")"
   ]
  },
  {
   "cell_type": "code",
   "execution_count": null,
   "id": "0c8e0b14",
   "metadata": {},
   "outputs": [
    {
     "data": {
      "text/plain": [
       "np.float64(19.0)"
      ]
     },
     "execution_count": 21,
     "metadata": {},
     "output_type": "execute_result"
    }
   ],
   "source": [
    "\"\"\"Дана квадратная матрица. Вывести на экран сумму элементов, стоящих на побочной диагонали\"\"\"\n",
    "\n",
    "matrix = np.eye(n, n)\n",
    "summ = 0\n",
    "\n",
    "for i in range(n):\n",
    "    summ += matrix[i][i]\n",
    "\n",
    "print(summ)"
   ]
  },
  {
   "cell_type": "code",
   "execution_count": null,
   "id": "8e551f62",
   "metadata": {},
   "outputs": [
    {
     "name": "stdout",
     "output_type": "stream",
     "text": [
      "0  0  1  0  0  1  0  0  2  0  0  0  0  0  0  0  0  0  0\n",
      "0  0  1  0  0  2  0  0  2  0  0  1  0  1  0  0  0  0  0\n",
      "2  1  2  0  1  2  1  1  2  0  1  1  1  1  1  1  1  1  1\n",
      "2  2  3  0  1  2  1  1  2  0  1  1  1  2  1  2  1  1  1\n",
      "2  2  3  1  1  3  2  1  3  1  1  2  1  2  1  2  2  2  2\n",
      "3  3  4  1  1  4  2  3  4  2  2  3  2  2  1  3  2  2  2\n",
      "3  4  4  2  1  5  2  3  5  2  2  5  3  3  1  3  2  3  3\n",
      "4  4  5  3  1  5  3  3  5  3  2  5  4  3  2  4  4  3  3\n",
      "4  4  5  3  1  5  3  3  5  4  3  5  5  4  2  4  4  4  3\n",
      "4  5  5  4  2  5  3  3  6  4  4  5  5  4  2  4  5  5  5\n",
      "4  5  5  4  2  6  3  5  6  5  4  6  5  5  2  5  5  5  6\n",
      "4  6  6  5  2  6  3  6  6  5  5  7  6  5  4  5  6  6  6\n",
      "5  6  6  6  3  7  4  7  6  5  6  8  6  5  5  6  6  6  7\n",
      "6  6  7  7  4  7  5  7  6  6  6  8  7  5  5  6  6  6  8\n",
      "7  6  8  8  5  8  5  7  7  7  8  8  7  6  6  6  6  7  8\n",
      "7  6  8  8  5  8  5  7  7  7  8  8  8  7  8  7  6  9  8\n",
      "8  8  8  8  7  8  5  8  7  8  8  9  8  7  8  7  7  9  9\n",
      "9  9  9  9  7  8  6  9  8  9  9  9  9  9  8  8  9  9  9\n",
      "9  9  9  9  9  9  9  9  9  9  9  9  9  9  9  9  9  9  9\n"
     ]
    }
   ],
   "source": [
    "\"\"\"В произвольной матрице отсортировать по возрастанию элементы столбцов\"\"\"\n",
    "\n",
    "matrix = np.random.randint(0, 10, size=(n, n))\n",
    "matrix = np.sort(matrix, axis=0)\n",
    "\n",
    "for row in matrix:  # по убыванию [::-1]\n",
    "    print(*row, sep=\"  \")"
   ]
  },
  {
   "cell_type": "code",
   "execution_count": null,
   "id": "7dd8f16b",
   "metadata": {},
   "outputs": [
    {
     "ename": "",
     "evalue": "",
     "output_type": "error",
     "traceback": [
      "\u001b[1;31mДля выполнения ячеек с \"labs-py3.14 (Python 3.14.0)\" требуется пакет ipykernel.\n",
      "\u001b[1;31mУстановите \"ipykernel\" в среде Python. \n",
      "\u001b[1;31mКоманда: \"/home/pavel/Projects/labs/.venv/bin/python -m pip install ipykernel -U --force-reinstall\""
     ]
    }
   ],
   "source": [
    "\"\"\"Сформировать две матрицы А и В размерности n x n из случайных элементов, вывести на экран сумму, разность и произведение данных матриц\"\"\"\n",
    "\n",
    "A = np.random.randint(0, 10, size=(n, n))\n",
    "B = np.random.randint(0, 10, size=(n, n))\n",
    "\n",
    "print(\"Матрица A:\")\n",
    "\n",
    "for row in A:\n",
    "    print(*row, sep=\"  \")\n",
    "\n",
    "print()\n",
    "print(\"Матрица B:\")\n",
    "\n",
    "for row in B:\n",
    "    print(*row, sep=\"  \")\n",
    "\n",
    "print()\n",
    "print(\"A - B:\")\n",
    "diff = A - B\n",
    "\n",
    "for row in diff:\n",
    "    print(*row, sep=\"  \")\n",
    "\n",
    "print()\n",
    "print(\"A * B:\")\n",
    "product = np.dot(A, B)\n",
    "\n",
    "for row in product:\n",
    "    print(*row, sep=\"  \")"
   ]
  }
 ],
 "metadata": {
  "kernelspec": {
   "display_name": "labs-py3.14",
   "language": "python",
   "name": "python3"
  },
  "language_info": {
   "codemirror_mode": {
    "name": "ipython",
    "version": 3
   },
   "file_extension": ".py",
   "mimetype": "text/x-python",
   "name": "python",
   "nbconvert_exporter": "python",
   "pygments_lexer": "ipython3",
   "version": "3.14.0"
  }
 },
 "nbformat": 4,
 "nbformat_minor": 5
}
